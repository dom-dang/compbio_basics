{
 "cells": [
  {
   "cell_type": "code",
   "execution_count": null,
   "id": "369b381c",
   "metadata": {},
   "outputs": [],
   "source": [
    "import pandas as pd\n",
    "from pydeseq2.dds import DeseqDataSet\n",
    "from pydeseq2.default_inference import DefaultInference\n",
    "from pydeseq2.ds import DeseqStats"
   ]
  },
  {
   "cell_type": "code",
   "execution_count": null,
   "id": "401536c1",
   "metadata": {},
   "outputs": [],
   "source": [
    "# ==== 1. Load input data ====\n",
    "# counts: rows = genes, columns = samples\n",
    "counts_file = \"path/to/count_matrix.csv\" \n",
    "metadata_file = \"path/to/metadata.csv\"   "
   ]
  },
  {
   "cell_type": "code",
   "execution_count": null,
   "id": "8cfb294b",
   "metadata": {},
   "outputs": [],
   "source": [
    "counts_df = pd.read_csv(counts_file, index_col=0)\n",
    "metadata_df = pd.read_csv(metadata_file, index_col=0)"
   ]
  },
  {
   "cell_type": "code",
   "execution_count": null,
   "id": "51a4411e",
   "metadata": {},
   "outputs": [],
   "source": [
    "# Ensure sample order matches between counts and metadata\n",
    "metadata_df = metadata_df.loc[counts_df.columns]"
   ]
  },
  {
   "cell_type": "code",
   "execution_count": null,
   "id": "521f3316",
   "metadata": {},
   "outputs": [],
   "source": [
    "# ==== 2. Define DESeq2 dataset ====\n",
    "dds = DeseqDataSet(\n",
    "    counts=counts_df,\n",
    "    metadata=metadat_df,\n",
    "    design='~condition',\n",
    "    refit_cooks=True,\n",
    "    inference=DefaultInference(n_cpus=8),\n",
    ")"
   ]
  },
  {
   "cell_type": "code",
   "execution_count": null,
   "id": "95114ca3",
   "metadata": {},
   "outputs": [],
   "source": [
    "# ==== 3. Fit DESeq2 model ====\n",
    "dds.deseq2()\n",
    "\n",
    "# ==== 4. Get results ====\n",
    "stat_res = DeseqStats(dds, contrast=[\"condition\", \"treatment\", \"control\"])\n",
    "stat_res.summary()"
   ]
  },
  {
   "cell_type": "code",
   "execution_count": null,
   "id": "9fc90256",
   "metadata": {},
   "outputs": [],
   "source": [
    "p_values = stat_res.results_df['pvalue'].to_frame()\n",
    "\n",
    "p_values = stat_res.results_df[stat_res.results_df['pvalue'] < 0.05]\n",
    "p_values=stat_res.results_df[stat_res.results_df['padj'] < 0.05]\n",
    "p_values = p_values.sort_values(by='pvalue')\n",
    "\n",
    "display(p_values)"
   ]
  },
  {
   "cell_type": "code",
   "execution_count": null,
   "id": "6433d581",
   "metadata": {},
   "outputs": [],
   "source": [
    "# Save results to file\n",
    "stat_res.results_df.to_csv(\"deseq_results.csv\")\n",
    "\n",
    "# ==== 5. Get normalized counts ====\n",
    "norm_counts = dds.norm_counts\n",
    "norm_counts.to_csv(\"normalized_counts.csv\")\n",
    "\n",
    "print(\"DESeq2 analysis complete. Results saved to 'deseq_results.csv'.\")"
   ]
  }
 ],
 "metadata": {
  "kernelspec": {
   "display_name": "base",
   "language": "python",
   "name": "python3"
  },
  "language_info": {
   "name": "python",
   "version": "3.11.7"
  }
 },
 "nbformat": 4,
 "nbformat_minor": 5
}
